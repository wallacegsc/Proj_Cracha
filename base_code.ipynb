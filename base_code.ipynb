{
 "cells": [
  {
   "cell_type": "code",
   "execution_count": 1,
   "metadata": {},
   "outputs": [],
   "source": [
    "from ultralytics import YOLO\n",
    "import cv2\n",
    "from paddleocr import PaddleOCR,draw_ocr\n",
    "import numpy as np\n",
    "import json\n",
    "import os\n",
    "import pathlib \n"
   ]
  },
  {
   "cell_type": "code",
   "execution_count": 5,
   "metadata": {},
   "outputs": [],
   "source": [
    "def find_index_words(lista, words):\n",
    "    for index in range(0,len(lista)):\n",
    "     if words[0] == lista[index].upper() or words[1] == lista[index].upper():\n",
    "         return index"
   ]
  },
  {
   "cell_type": "code",
   "execution_count": 7,
   "metadata": {},
   "outputs": [],
   "source": [
    "def make_json(txts):\n",
    "    json_object = {\n",
    "        \"nome\":\"\",\n",
    "        \"matricula\":\"\",     \n",
    "        }\n",
    "    \n",
    "    if \"NOME\" in txts or \"NOME:\" in txts:\n",
    "        index = find_index_words(txts,[\"NOME\",\"NOME:\"])\n",
    "        if index == 0 or index == 1:\n",
    "            for word in txts[index+1:index+3]:\n",
    "                if len(word) >= 11 and word.isupper():\n",
    "                    json_object[\"nome\"] = word\n",
    "                    break\n",
    "        else:\n",
    "            for word in txts[index-2:index+3]:\n",
    "                if len(word) >= 11 and word.isupper():\n",
    "                    json_object[\"nome\"] = word\n",
    "                    break\n",
    "\n",
    "        index = find_index_words(txts,[\"MATRICULA\",\"MATRICULA:\"])\n",
    "        for word in txts[index-2:index+3]:\n",
    "            if len(word) == 5 and word.isdigit():\n",
    "                    json_object[\"matricula\"] = word\n",
    "                    break\n",
    "            \n",
    "    return json_object\n"
   ]
  },
  {
   "cell_type": "code",
   "execution_count": 8,
   "metadata": {},
   "outputs": [],
   "source": [
    "def recognition(image, show_images,number_cracha):\n",
    "    img_rec = image.copy()\n",
    "    ocr = PaddleOCR(use_angle_cls=True, lang='pt', use_gpu = True, drop_score = 0.8 ) \n",
    "    result = ocr.ocr(img_rec, cls=True)\n",
    "    result = result[0]\n",
    "\n",
    "    txts = [line[1][0] for line in result]\n",
    "    json_object = make_json(txts)\n",
    "    \n",
    "    if show_images:  \n",
    "        boxes = [line[0] for line in result]\n",
    "        scores = [line[1][1] for line in result]\n",
    "        im_show = draw_ocr(img_rec, boxes, txts, scores, font_path=\"arial.ttf\")\n",
    "        cv2.imshow(f'Recognition {number_cracha}',cv2.resize(im_show,(640,640)))\n",
    "   \n",
    "    return json_object"
   ]
  },
  {
   "cell_type": "code",
   "execution_count": 10,
   "metadata": {},
   "outputs": [],
   "source": [
    "def scanner(pure_img, json_archive_name, model, confi, write_results = False, show_images = False):\n",
    "\n",
    "    if type(pure_img) == str:\n",
    "        imagem = cv2.imread(pure_img)\n",
    "    if type(pure_img) == np.ndarray:\n",
    "        imagem = pure_img\n",
    "\n",
    "    model = YOLO(model)  \n",
    "    results = model(imagem, device = 0, imgsz = 640, conf = confi)\n",
    "    img = results[0].plot()\n",
    " \n",
    "    if len(results[0].boxes.data) == 0:\n",
    "        if show_images:\n",
    "            cv2.imshow('Entrada', cv2.resize(imagem,(320,320)))\n",
    "            cv2.waitKey(0)\n",
    "            cv2.destroyAllWindows()\n",
    "        return None   \n",
    "        \n",
    "    boxes = results[0].boxes.cpu().numpy()\n",
    "    detec_num=0\n",
    "    for box in boxes.xyxy:\n",
    "        x1 = int(box[0])\n",
    "        y1 = int(box[1])\n",
    "        x2 = int(box[2])\n",
    "        y2 = int(box[3])\n",
    "        amostras = imagem[y1:y2, x1:x2]\n",
    "        info = recognition(amostras, show_images, detec_num)\n",
    "        detec_num += 1\n",
    "\n",
    "    abs_path = os.path.join(\n",
    "            os.path.abspath(''),\n",
    "            json_archive_name\n",
    "        )\n",
    "\n",
    "    if \".json\" != pathlib.Path(json_archive_name).suffix:\n",
    "        json_archive_name += \".json\"\n",
    "\n",
    "    if write_results:\n",
    "        print(json.dumps(info, ensure_ascii=False, indent=2))\n",
    "\n",
    "    with open(abs_path, 'w') as arquivo:\n",
    "        json.dump(info, arquivo, ensure_ascii=False, indent=2)\n",
    "        \n",
    "    if show_images:\n",
    "        cv2.imshow('Entrada', cv2.resize(imagem,(320,320)))\n",
    "        cv2.imshow('Deteccao',cv2.resize(img,(320,320)))\n",
    "        cv2.waitKey(0)\n",
    "        cv2.destroyAllWindows()    "
   ]
  },
  {
   "cell_type": "code",
   "execution_count": 11,
   "metadata": {},
   "outputs": [
    {
     "name": "stderr",
     "output_type": "stream",
     "text": [
      "\n",
      "0: 640x384 1 cracha, 54.9ms\n",
      "Speed: 10.0ms preprocess, 54.9ms inference, 7.3ms postprocess per image at shape (1, 3, 640, 384)\n"
     ]
    },
    {
     "name": "stdout",
     "output_type": "stream",
     "text": [
      "[2023/09/14 12:08:46] ppocr DEBUG: Namespace(help='==SUPPRESS==', use_gpu=False, use_xpu=False, use_npu=False, ir_optim=True, use_tensorrt=False, min_subgraph_size=15, precision='fp32', gpu_mem=500, image_dir=None, page_num=0, det_algorithm='DB', det_model_dir='C:\\\\Users\\\\LSE/.paddleocr/whl\\\\det\\\\en\\\\en_PP-OCRv3_det_infer', det_limit_side_len=960, det_limit_type='max', det_box_type='quad', det_db_thresh=0.3, det_db_box_thresh=0.6, det_db_unclip_ratio=1.5, max_batch_size=10, use_dilation=False, det_db_score_mode='fast', det_east_score_thresh=0.8, det_east_cover_thresh=0.1, det_east_nms_thresh=0.2, det_sast_score_thresh=0.5, det_sast_nms_thresh=0.2, det_pse_thresh=0, det_pse_box_thresh=0.85, det_pse_min_area=16, det_pse_scale=1, scales=[8, 16, 32], alpha=1.0, beta=1.0, fourier_degree=5, rec_algorithm='SVTR_LCNet', rec_model_dir='C:\\\\Users\\\\LSE/.paddleocr/whl\\\\rec\\\\latin\\\\latin_PP-OCRv3_rec_infer', rec_image_inverse=True, rec_image_shape='3, 48, 320', rec_batch_num=6, max_text_length=25, rec_char_dict_path='c:\\\\Users\\\\LSE\\\\anaconda3\\\\envs\\\\env_proj\\\\Lib\\\\site-packages\\\\paddleocr\\\\ppocr\\\\utils\\\\dict\\\\latin_dict.txt', use_space_char=True, vis_font_path='./doc/fonts/simfang.ttf', drop_score=0.8, e2e_algorithm='PGNet', e2e_model_dir=None, e2e_limit_side_len=768, e2e_limit_type='max', e2e_pgnet_score_thresh=0.5, e2e_char_dict_path='./ppocr/utils/ic15_dict.txt', e2e_pgnet_valid_set='totaltext', e2e_pgnet_mode='fast', use_angle_cls=True, cls_model_dir='C:\\\\Users\\\\LSE/.paddleocr/whl\\\\cls\\\\ch_ppocr_mobile_v2.0_cls_infer', cls_image_shape='3, 48, 192', label_list=['0', '180'], cls_batch_num=6, cls_thresh=0.9, enable_mkldnn=False, cpu_threads=10, use_pdserving=False, warmup=False, sr_model_dir=None, sr_image_shape='3, 32, 128', sr_batch_num=1, draw_img_save_dir='./inference_results', save_crop_res=False, crop_res_save_dir='./output', use_mp=False, total_process_num=1, process_id=0, benchmark=False, save_log_path='./log_output/', show_log=True, use_onnx=False, output='./output', table_max_len=488, table_algorithm='TableAttn', table_model_dir=None, merge_no_span_structure=True, table_char_dict_path=None, layout_model_dir=None, layout_dict_path=None, layout_score_threshold=0.5, layout_nms_threshold=0.5, kie_algorithm='LayoutXLM', ser_model_dir=None, re_model_dir=None, use_visual_backbone=True, ser_dict_path='../train_data/XFUND/class_list_xfun.txt', ocr_order_method=None, mode='structure', image_orientation=False, layout=True, table=True, ocr=True, recovery=False, use_pdf2docx_api=False, lang='pt', det=True, rec=True, type='ocr', ocr_version='PP-OCRv3', structure_version='PP-StructureV2')\n",
      "[2023/09/14 12:08:47] ppocr DEBUG: dt_boxes num : 16, elapse : 0.6634812355041504\n",
      "[2023/09/14 12:08:48] ppocr DEBUG: cls num  : 16, elapse : 0.24856090545654297\n",
      "[2023/09/14 12:08:52] ppocr DEBUG: rec_res num  : 16, elapse : 4.889588356018066\n",
      "{\n",
      "  \"nome\": \"FELIPEMONTEIRO FERREIRA\",\n",
      "  \"matricula\": \"11416\"\n",
      "}\n"
     ]
    }
   ],
   "source": [
    "scanner(\"verso.jpeg\",\n",
    "        \"resultado\", \n",
    "        r\"Cracha_nano.pt\", \n",
    "        confi = 0.6,\n",
    "        write_results = True, \n",
    "        show_images = True)"
   ]
  },
  {
   "cell_type": "markdown",
   "metadata": {},
   "source": [
    "Testar em uma imagem"
   ]
  },
  {
   "cell_type": "code",
   "execution_count": null,
   "metadata": {},
   "outputs": [],
   "source": [
    "model = YOLO(r\"Cracha_nano.pt\")  \n",
    "imagem = cv2.imread(\"verso.jpeg\")\n",
    "results = model(imagem, device = 0, imgsz = 640, conf = 0.4)\n",
    "img = results[0].plot()\n",
    "print(len(results[0].boxes.data))\n",
    "cv2.imshow('',cv2.resize(img,(640,640)))\n",
    "cv2.waitKey(0)\n",
    "cv2.destroyAllWindows()"
   ]
  },
  {
   "cell_type": "markdown",
   "metadata": {},
   "source": [
    "Testando os modelos em vídeo"
   ]
  },
  {
   "cell_type": "code",
   "execution_count": null,
   "metadata": {},
   "outputs": [],
   "source": [
    "model1 = YOLO(r\"Cracha_nano.pt\")\n",
    "model2 = YOLO(r\"Cracha_small.pt\")\n",
    "\n",
    "video_path = 0\n",
    "cap = cv2.VideoCapture(video_path)\n",
    "\n",
    "while cap.isOpened():\n",
    " \n",
    "    success, frame = cap.read()\n",
    "\n",
    "    if success:\n",
    "        \n",
    "        results1 = model1(frame,device = 0, imgsz=384,conf = 0.86)\n",
    "        boxes1 = results1[0].boxes.cpu().numpy()\n",
    "        results2 = model2(frame,device = 0, imgsz=384,conf = 0.86)\n",
    "        boxes2 = results2[0].boxes.cpu().numpy()\n",
    "        n=0\n",
    "  \n",
    "        annotated_frame1 = results1[0].plot()\n",
    "        annotated_frame2 = results2[0].plot()\n",
    "        \n",
    "        cv2.imshow(\"YOLOv8 Inference Nano\", annotated_frame1)\n",
    "        cv2.imshow(\"YOLOv8 Inference Small\", annotated_frame2)\n",
    "\n",
    "        if cv2.waitKey(1) & 0xFF == ord(\"q\"):\n",
    "            break\n",
    "    else:\n",
    "        break\n",
    "\n",
    "cap.release()\n",
    "cv2.destroyAllWindows()"
   ]
  }
 ],
 "metadata": {
  "kernelspec": {
   "display_name": "proj",
   "language": "python",
   "name": "python3"
  },
  "language_info": {
   "codemirror_mode": {
    "name": "ipython",
    "version": 3
   },
   "file_extension": ".py",
   "mimetype": "text/x-python",
   "name": "python",
   "nbconvert_exporter": "python",
   "pygments_lexer": "ipython3",
   "version": "3.11.4"
  },
  "orig_nbformat": 4
 },
 "nbformat": 4,
 "nbformat_minor": 2
}
